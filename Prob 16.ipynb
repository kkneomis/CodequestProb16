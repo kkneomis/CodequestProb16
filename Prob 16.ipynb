{
 "cells": [
  {
   "cell_type": "code",
   "execution_count": 2,
   "metadata": {
    "collapsed": false
   },
   "outputs": [
    {
     "name": "stdout",
     "output_type": "stream",
     "text": [
      "[\n",
      "    \"2\", \n",
      "    \"10\", \n",
      "    \"4\", \n",
      "    \"M,1,2,1\", \n",
      "    \"G,3,4,1\", \n",
      "    \"M,1,8,3\", \n",
      "    \"F,2,2,3\", \n",
      "    \"12\", \n",
      "    \"12\", \n",
      "    \"M,2,10,7\", \n",
      "    \"B,8,1,2\", \n",
      "    \"B,1,7,5\", \n",
      "    \"A,9,2,9\", \n",
      "    \"B,3,9,2\", \n",
      "    \"A,7,2,5\", \n",
      "    \"A,3,7,5\", \n",
      "    \"O,2,6,5\", \n",
      "    \"O,6,8,4\", \n",
      "    \"M,1,7,2\", \n",
      "    \"B,10,3,3\", \n",
      "    \"B,7,9,3\"\n",
      "]\n"
     ]
    }
   ],
   "source": [
    "import json\n",
    "\n",
    "with open('Prob16.in.txt') as f:\n",
    "    data = f.read().splitlines()\n",
    "    \n",
    "print json.dumps(data, indent=4)"
   ]
  },
  {
   "cell_type": "code",
   "execution_count": 3,
   "metadata": {
    "collapsed": true
   },
   "outputs": [],
   "source": [
    "# global variables\n",
    "num_of_maps = int(data[0])\n"
   ]
  },
  {
   "cell_type": "code",
   "execution_count": 8,
   "metadata": {
    "collapsed": false
   },
   "outputs": [],
   "source": [
    "class StarMap():\n",
    "    \n",
    "    def __init__(self, size):\n",
    "        self.size = size\n",
    "        self.star_map = self.gen_map()\n",
    "        self.energy = 20\n",
    "        self.solar_energy = {\n",
    "            \"M\":3,\n",
    "            \"K\":4,\n",
    "            \"G\":5,\n",
    "            \"F\":6,\n",
    "            \"A\":7,\n",
    "            \"B\":8,\n",
    "            \"O\":9\n",
    "        }\n",
    "        self.location = [0,0,0]\n",
    "        self.travel_distrance = 0\n",
    "        #self.get_stats()\n",
    "        self.stars = []\n",
    "        self.dest = [self.size -1, self.size -1, self.size - 1]\n",
    "        #self.print_me()\n",
    "\n",
    "    def travel(self):\n",
    "        while self.stars != []:\n",
    "            nearest_star = self.stars.pop(self._get_nearest_star())\n",
    "            self.goto(nearest_star)\n",
    "            if self.goto(self.dest) == 1:\n",
    "                print \"Finished with...\", self.travel_distrance\n",
    "                break\n",
    "    \n",
    "    def goto(self, new_location):\n",
    "        \"\"\"Move in a direction\n",
    "           0 for x\n",
    "           1 for y\n",
    "           2 for z\n",
    "           Lose 1 energy\n",
    "           Gain energy in map location\n",
    "        \"\"\"\n",
    "        req_energy = self._get_dist(self.location, new_location)\n",
    "        \n",
    "        \n",
    "        if self.energy < req_energy:\n",
    "            #not enough energy\n",
    "            return 0\n",
    "        else:    \n",
    "            #make a move\n",
    "            try:\n",
    "                #print req_energy\n",
    "                self.travel_distrance += req_energy\n",
    "                \n",
    "                self.location = new_location\n",
    "                #pay the energy fee\n",
    "                self.energy = self.energy - req_energy\n",
    "                #gain any new energy available\n",
    "                self.energy = min(self.energy + self.get_val_at_location(), 20)\n",
    "                #self.get_stats()\n",
    "            except IndexError:\n",
    "                print \"Oops, I can't move there\"\n",
    "            except:\n",
    "                pass\n",
    "        return 1\n",
    "        \n",
    "    \n",
    "    ###----- Setting things Up ----------###\n",
    "    \n",
    "    def get_val_at_location(self):\n",
    "        \"\"\"Returns energy applicable to location on the map\"\"\"\n",
    "        l = self.location\n",
    "        x,y,z = l[0], l[1], l[2]\n",
    "        return self.star_map[x][y][z]\n",
    "        \n",
    "    def gen_map(self):\n",
    "        \"\"\"\n",
    "        Create a three dimensional cube (nested list)\n",
    "        based on the given dimension\n",
    "        \"\"\"\n",
    "        #print \"Creating a new map of size\", self.size\n",
    "        _map = []\n",
    "        for i in range(self.size):\n",
    "            row2 = []\n",
    "            for i in range(self.size):\n",
    "                row = []\n",
    "                for i in range(self.size):\n",
    "                    row.append(0)\n",
    "                row2.append(row)\n",
    "            _map.append(row2)\n",
    "        return _map\n",
    "            \n",
    "    def set_stars(self, val, x, y, z):\n",
    "        \"\"\"Set a star given a location value\"\"\"\n",
    "        self.star_map[x][y][z] = self.solar_energy.get(val, 0)\n",
    "        self.stars.append([x,y,z])\n",
    "    \n",
    "    def print_me(self):\n",
    "        for row in self.star_map:\n",
    "            print row\n",
    "            \n",
    "    def get_stats(self):\n",
    "        print \"I am now at\", self.location\n",
    "        print \"My energy is\", self.energy\n",
    "        \n",
    "    \n",
    "    # helper function\n",
    "    \n",
    "    def _get_nearest_star(self):\n",
    "        \"\"\"return index of nearest star\"\"\"\n",
    "        nearest_loc = 0\n",
    "        nearest_dist = 99\n",
    "        for loc, star in enumerate(self.stars):\n",
    "            dist = self._get_dist(star, self.location)\n",
    "            if dist < nearest_dist:\n",
    "                nearest_loc = loc\n",
    "                nearest_dist = dist\n",
    "        return nearest_loc\n",
    "    \n",
    "    \n",
    "    def _get_dist(self, star1, star2):\n",
    "        dist= 0\n",
    "        for i in range(len(star1)):\n",
    "            dist += abs(star1[i] - star2[i])\n",
    "        return dist\n",
    "        "
   ]
  },
  {
   "cell_type": "code",
   "execution_count": 11,
   "metadata": {
    "collapsed": false
   },
   "outputs": [
    {
     "name": "stdout",
     "output_type": "stream",
     "text": [
      "Finished with... 27\n",
      "Finished with... 33\n"
     ]
    }
   ],
   "source": [
    "#print num_of_maps\n",
    "\n",
    "loc = 1\n",
    "for i in range(num_of_maps):\n",
    "    new_map = StarMap(int(data[loc]))\n",
    "    loc +=1\n",
    "    num_of_stars = int(data[loc])\n",
    "    loc +=1\n",
    "    for i in range(num_of_stars):\n",
    "        star_vals = data[loc].split(',')\n",
    "        new_map.set_stars(star_vals[0], \n",
    "                          int(star_vals[1]), \n",
    "                          int(star_vals[2]), \n",
    "                          int(star_vals[3]))\n",
    "        loc +=1\n",
    "        \n",
    " \n",
    "    new_map.travel()\n",
    "        \n"
   ]
  },
  {
   "cell_type": "code",
   "execution_count": null,
   "metadata": {
    "collapsed": true
   },
   "outputs": [],
   "source": []
  }
 ],
 "metadata": {
  "anaconda-cloud": {},
  "kernelspec": {
   "display_name": "Python [conda env:anaconda2]",
   "language": "python",
   "name": "conda-env-anaconda2-py"
  },
  "language_info": {
   "codemirror_mode": {
    "name": "ipython",
    "version": 2
   },
   "file_extension": ".py",
   "mimetype": "text/x-python",
   "name": "python",
   "nbconvert_exporter": "python",
   "pygments_lexer": "ipython2",
   "version": "2.7.12"
  }
 },
 "nbformat": 4,
 "nbformat_minor": 1
}
